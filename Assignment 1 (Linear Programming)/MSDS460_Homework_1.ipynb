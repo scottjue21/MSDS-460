{
 "cells": [
  {
   "cell_type": "markdown",
   "id": "65942c52",
   "metadata": {},
   "source": [
    "# MSDS 460 Homework Assignment 1 Problems"
   ]
  },
  {
   "cell_type": "markdown",
   "id": "c49d01d1",
   "metadata": {},
   "source": [
    "### Question 2"
   ]
  },
  {
   "cell_type": "raw",
   "id": "4d2a8e98",
   "metadata": {},
   "source": [
    "Consider the following linear program:            \n",
    "\n",
    "Max Z = -4x1 + 2x2\n",
    "Subject To\n",
    "-2x1 + 2x2 ≤ 7\n",
    "x1 ≥ 2\n",
    "x1 - 4x2 ≤ 0\n",
    "2x1 + 2x2 ≥ 10\n",
    "x1, x2 ≥ 0"
   ]
  },
  {
   "cell_type": "code",
   "execution_count": 79,
   "id": "87ed127e",
   "metadata": {},
   "outputs": [],
   "source": [
    "from pulp import *\n",
    "import matplotlib.pyplot as plt\n",
    "import numpy as np"
   ]
  },
  {
   "cell_type": "code",
   "execution_count": 2,
   "id": "b7cc90de",
   "metadata": {},
   "outputs": [],
   "source": [
    "# define problem\n",
    "prob = LpProblem(\"problem\", LpMaximize)"
   ]
  },
  {
   "cell_type": "code",
   "execution_count": 3,
   "id": "ec90571a",
   "metadata": {},
   "outputs": [],
   "source": [
    "# define variables\n",
    "x1 = LpVariable(\"x1\", 0, None)\n",
    "x2 = LpVariable(\"x2\", 0, None)"
   ]
  },
  {
   "cell_type": "code",
   "execution_count": 4,
   "id": "af12a41c",
   "metadata": {},
   "outputs": [],
   "source": [
    "# define objective\n",
    "prob += -4*x1 + 2*x2"
   ]
  },
  {
   "cell_type": "code",
   "execution_count": 5,
   "id": "b285949e",
   "metadata": {},
   "outputs": [],
   "source": [
    "# define constraints\n",
    "prob += -2*x1 + 2*x2 <= 7\n",
    "prob += x1 >= 2\n",
    "prob += x1 - 4*x2 <= 0\n",
    "prob += 2*x1 + 2*x2 >= 10"
   ]
  },
  {
   "cell_type": "code",
   "execution_count": 6,
   "id": "987f01a4",
   "metadata": {},
   "outputs": [
    {
     "name": "stdout",
     "output_type": "stream",
     "text": [
      "status=Optimal\n"
     ]
    }
   ],
   "source": [
    "# solve\n",
    "status = prob.solve()\n",
    "print(f\"status={LpStatus[status]}\")"
   ]
  },
  {
   "cell_type": "code",
   "execution_count": 7,
   "id": "2c43834f",
   "metadata": {},
   "outputs": [
    {
     "name": "stdout",
     "output_type": "stream",
     "text": [
      "x1 = 2.0\n",
      "x2 = 5.5\n",
      "Objective= 3.0\n",
      "\n"
     ]
    }
   ],
   "source": [
    "for variable in prob.variables():\n",
    "        print(f'{variable.name} = {variable.varValue}')\n",
    "print(f'Objective= {value(prob.objective)}')\n",
    "print(f'')"
   ]
  },
  {
   "cell_type": "markdown",
   "id": "60011ed8",
   "metadata": {},
   "source": [
    "####  Solve the original LP graphically (to scale).  Clearly identify the feasible region and, if one or more exist, the optimal solution(s) (provide exact values for x1, x2, and Z)."
   ]
  },
  {
   "cell_type": "code",
   "execution_count": 58,
   "id": "578e119f",
   "metadata": {},
   "outputs": [
    {
     "data": {
      "image/png": "[encoded data removed]",
      "text/plain": [
       "<Figure size 432x288 with 1 Axes>"
      ]
     },
     "metadata": {
      "needs_background": "light"
     },
     "output_type": "display_data"
    }
   ],
   "source": [
    "# plot optimal solution\n",
    "x = np.arange(0, 12)\n",
    "plt.plot(x, 3.5 + x, label = '-2*x1 + 2*x2 <= 7')\n",
    "plt.axvline(x = 2, color = 'red', label = 'x1 >= 2')\n",
    "plt.plot(x, x/4, label = 'x1 - 4*x2 <= 0')\n",
    "plt.plot(x, 5 - x, label = '2*x1 + 2*x2 >= 10')\n",
    "\n",
    "# define feasible region\n",
    "x = [2, 4, 8, 10, 10, 2]\n",
    "y = [3, 1, 2, 2.5, 13.5, 5.5]\n",
    "plt.fill(x, y, 'grey')\n",
    "\n",
    "plt.text(5, 4, 'Feasible \\n Region', size ='14')\n",
    "plt.plot(2, 5.5, marker=\"o\", markersize=10, markerfacecolor=\"black\")\n",
    "plt.annotate('Optimal\\nsolution\\n(2, 5.5)', xy = (2.3, 4.4))\n",
    "\n",
    "plt.xlabel('x1')\n",
    "plt.ylabel('x2')\n",
    "plt.axis([0, 10, 0, 10])\n",
    "plt.xticks(np.arange(0, 11, 1)) \n",
    "plt.yticks(np.arange(0, 11, 1))\n",
    "plt.grid(True)\n",
    "plt.legend(bbox_to_anchor=(1.02, 1), loc='upper left', borderaxespad=0)\n",
    "plt.show()"
   ]
  },
  {
   "cell_type": "markdown",
   "id": "66634842",
   "metadata": {},
   "source": [
    "### Question 4"
   ]
  },
  {
   "cell_type": "raw",
   "id": "06cef788",
   "metadata": {},
   "source": [
    "Turkeyco produces two types of turkey cutlets for sale to fast-food restaurants.  Each type of cutlet consists of white meat and dark meat.  Cutlet 1 sells for $4/lb and must consist of at least 70% white meat.  Cutlet 2 sells for $3/lb and must consist of at least 60% white meat.  At most, 50 lb of cutlet 1 and 30 lb of cutlet 2 can be sold.  The two types of turkey used to manufacture the cutlets are purchased from the GobbleGobble Turkey Farm.  Each type 1 turkey costs $10 and yields 5 lb of white meat and 2 lb of dark meat.  Each type 2 turkey costs $8 and yields 3 lb of white meat and 3 lb of dark meat.  \n",
    "\n",
    "Part A:  Formulate an LP to maximize Turkeyco’s profit.\n",
    "\n",
    "Part B:  Solve the LP (provide exact values for all variables and the optimal objective function).\n"
   ]
  },
  {
   "cell_type": "code",
   "execution_count": 59,
   "id": "53bb0476",
   "metadata": {},
   "outputs": [],
   "source": [
    "# define problem\n",
    "prob = LpProblem(\"problem\", LpMaximize)"
   ]
  },
  {
   "cell_type": "code",
   "execution_count": 60,
   "id": "c7128c3e",
   "metadata": {},
   "outputs": [],
   "source": [
    "# define variables\n",
    "C1W = LpVariable(\"Cutlet 1 white\", 0, None) # non-negativity\n",
    "C1D = LpVariable(\"Cutlet 1 dark\", 0, None) # non-negativity\n",
    "C2W = LpVariable(\"Cutlet 2 white\", 0, None) # non-negativity\n",
    "C2D = LpVariable(\"Cutlet 2 dark\", 0, None) # non-negativity\n",
    "T1 = LpVariable(\"Type 1 Chicken\", 0, None) # non-negativity\n",
    "T2 = LpVariable(\"Type 2 Chicken\", 0, None) # non-negativity"
   ]
  },
  {
   "cell_type": "code",
   "execution_count": 61,
   "id": "7ab7f56b",
   "metadata": {},
   "outputs": [],
   "source": [
    "# define objective\n",
    "prob += 4*(C1W + C1D) + 3*(C2W + C2D) - 10*T1 - 8*T2"
   ]
  },
  {
   "cell_type": "code",
   "execution_count": 62,
   "id": "9432ff25",
   "metadata": {},
   "outputs": [],
   "source": [
    "# define constraints\n",
    "prob += .7*(C1W + C1D) <= C1W # cutlet 1 must be at least 70% white meat\n",
    "prob += .6*(C2W + C2D) <= C2W # cutlet 2 must be at least 60% white meat\n",
    "prob += C1W + C1D <= 50 # At most, 50 lb of cutlet 1 can be sold\n",
    "prob += C2W + C2D <= 30 # At most, 30 lb of cutlet 2 can be sold\n",
    "prob += C1W + C2W <= 5*T1 + 3*T2 # type 1 turkey yields 5 lb of white meat and type 2 turkey yields 3 lb of white meat  \n",
    "prob += C1D + C2D <= 2*T1 + 3*T2 # type 1 turkey yields 2 lb of dark meat and type 2 turkey yields 3 lb of dark meat"
   ]
  },
  {
   "cell_type": "code",
   "execution_count": 63,
   "id": "8a0b8b09",
   "metadata": {},
   "outputs": [
    {
     "name": "stdout",
     "output_type": "stream",
     "text": [
      "status=Optimal\n"
     ]
    }
   ],
   "source": [
    "# solve\n",
    "status = prob.solve()\n",
    "print(f\"status={LpStatus[status]}\")"
   ]
  },
  {
   "cell_type": "code",
   "execution_count": 64,
   "id": "c4f04985",
   "metadata": {},
   "outputs": [
    {
     "name": "stdout",
     "output_type": "stream",
     "text": [
      "Cutlet_1_dark = 15.0\n",
      "Cutlet_1_white = 35.0\n",
      "Cutlet_2_dark = 12.0\n",
      "Cutlet_2_white = 18.0\n",
      "Type_1_Chicken = 8.6666667\n",
      "Type_2_Chicken = 3.2222222\n",
      "Objective= 177.55555539999997\n",
      "\n"
     ]
    }
   ],
   "source": [
    "for variable in prob.variables():\n",
    "        print(f'{variable.name} = {variable.varValue}')\n",
    "print(f'Objective= {value(prob.objective)}')\n",
    "print(f'')"
   ]
  },
  {
   "cell_type": "markdown",
   "id": "ed81e61f",
   "metadata": {},
   "source": [
    "### Question 5"
   ]
  },
  {
   "cell_type": "raw",
   "id": "8ca5710a",
   "metadata": {},
   "source": [
    "A company wants to plan production for the ensuing year to minimize the combined cost of production and inventory costs.  In each quarter of the year, demand is anticipated to be 130, 160, 250, and 150 units, respectively.  The plant can produce a maximum of 200 units each quarter.  The product can be manufactured at a cost of $15 per unit during the first quarter, however the manufacturing cost is expected to rise by $1 per quarter.  Excess production can be stored from one quarter to the next at a cost of $1.50 per unit, but the storage facility can hold a maximum of 60 units.  How should the production be scheduled so as to minimize the total costs?"
   ]
  },
  {
   "cell_type": "code",
   "execution_count": 95,
   "id": "50b5541e",
   "metadata": {},
   "outputs": [],
   "source": [
    "# define problem\n",
    "prob = LpProblem(\"problem\", LpMinimize)"
   ]
  },
  {
   "cell_type": "code",
   "execution_count": 96,
   "id": "1632eb2e",
   "metadata": {},
   "outputs": [],
   "source": [
    "# define variables\n",
    "Q1P = LpVariable(\"Q1_Production\", 0, 200) # non-negativity, plant can produce a maximum of 200 units each quarter\n",
    "Q2P = LpVariable(\"Q2_Production\", 0, 200) # non-negativity, plant can produce a maximum of 200 units each quarter\n",
    "Q3P = LpVariable(\"Q3_Production\", 0, 200) # non-negativity, plant can produce a maximum of 200 units each quarter\n",
    "Q4P = LpVariable(\"Q4_Production\", 0, 200) # non-negativity, plant can produce a maximum of 200 units each quarter\n",
    "\n",
    "Q1S = LpVariable(\"Q1_Storage\", 0, 60) # non-negativity, storage facility can hold a maximum of 60 units\n",
    "Q2S = LpVariable(\"Q2_Storage\", 0, 60) # non-negativity, storage facility can hold a maximum of 60 units\n",
    "Q3S = LpVariable(\"Q3_Storage\", 0, 60) # non-negativity, storage facility can hold a maximum of 60 units\n",
    "Q4S = LpVariable(\"Q4_Storage\", 0, 60) # non-negativity, storage facility can hold a maximum of 60 units"
   ]
  },
  {
   "cell_type": "code",
   "execution_count": 97,
   "id": "009f143b",
   "metadata": {},
   "outputs": [],
   "source": [
    "# define objective\n",
    "prob += 15*Q1P + 16*Q2P + 17*Q3P + 18*Q4P + 1.5*(Q1S + Q2S + Q3S + Q4S)"
   ]
  },
  {
   "cell_type": "code",
   "execution_count": 98,
   "id": "5702880d",
   "metadata": {},
   "outputs": [],
   "source": [
    "# define constraints\n",
    "prob += Q1P >= 130 # constraint to meet Q1 demand of 130 units\n",
    "prob += Q1P - 130 == Q1S # excess Q1 production to be stored at storage facility\n",
    " \n",
    "prob += Q2P + Q1S >= 160 # constraint to meet Q2 demand of 160 units\n",
    "prob += Q2P + Q1S - 160 == Q2S # excess Q2 production to be stored at storage facility\n",
    "\n",
    "prob += Q3P + Q2S >= 250 # constraint to meet Q3 demand of 250 units\n",
    "prob += Q3P + Q2S - 250 == Q3S # excess Q3 production to be stored at storage facility\n",
    "\n",
    "prob += Q4P + Q3S >= 150 # constraint to meet Q4 demand of 150 units\n",
    "prob += Q4P + Q3S- 150 == Q4S # excess Q4 production to be stored at storage facility\n"
   ]
  },
  {
   "cell_type": "code",
   "execution_count": 99,
   "id": "b1420f73",
   "metadata": {},
   "outputs": [
    {
     "name": "stdout",
     "output_type": "stream",
     "text": [
      "status=Optimal\n"
     ]
    }
   ],
   "source": [
    "# solve\n",
    "status = prob.solve()\n",
    "print(f\"status={LpStatus[status]}\")"
   ]
  },
  {
   "cell_type": "code",
   "execution_count": 100,
   "id": "57ee9718",
   "metadata": {},
   "outputs": [
    {
     "name": "stdout",
     "output_type": "stream",
     "text": [
      "Q1_Production = 140.0\n",
      "Q1_Storage = 10.0\n",
      "Q2_Production = 200.0\n",
      "Q2_Storage = 50.0\n",
      "Q3_Production = 200.0\n",
      "Q3_Storage = 0.0\n",
      "Q4_Production = 150.0\n",
      "Q4_Storage = 0.0\n",
      "Objective= 11490.0\n",
      "\n"
     ]
    }
   ],
   "source": [
    "for variable in prob.variables():\n",
    "        print(f'{variable.name} = {variable.varValue}')\n",
    "print(f'Objective= {value(prob.objective)}')\n",
    "print(f'')"
   ]
  }
 ],
 "metadata": {
  "kernelspec": {
   "display_name": "Python 3",
   "language": "python",
   "name": "python3"
  },
  "language_info": {
   "codemirror_mode": {
    "name": "ipython",
    "version": 3
   },
   "file_extension": ".py",
   "mimetype": "text/x-python",
   "name": "python",
   "nbconvert_exporter": "python",
   "pygments_lexer": "ipython3",
   "version": "3.8.8"
  }
 },
 "nbformat": 4,
 "nbformat_minor": 5
}
